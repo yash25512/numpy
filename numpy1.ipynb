{
 "cells": [
  {
   "cell_type": "markdown",
   "id": "e099e798-3e52-4621-a6fc-0c4ade511b3a",
   "metadata": {},
   "source": [
    "# numpy"
   ]
  },
  {
   "cell_type": "code",
   "execution_count": 20,
   "id": "b8ea7f50-1a11-4c0c-a050-13f6cf2394c8",
   "metadata": {},
   "outputs": [
    {
     "name": "stdout",
     "output_type": "stream",
     "text": [
      "[20 30 40] [60 70 80]\n",
      "[ 80 100 120]\n",
      "[1200 2100 3200]\n"
     ]
    }
   ],
   "source": [
    "import numpy as np\n",
    "\n",
    "a=np.array([20,30,40])\n",
    "b=np.array([60,70,80])\n",
    "print(a,b)\n",
    "print(a+b)\n",
    "print(a*b)"
   ]
  },
  {
   "cell_type": "code",
   "execution_count": 22,
   "id": "ba9f25e9-5aa3-4fb5-ac88-276a3a20913d",
   "metadata": {},
   "outputs": [
    {
     "name": "stdout",
     "output_type": "stream",
     "text": [
      "['40' '50' '60']\n"
     ]
    }
   ],
   "source": [
    "a=np.array([40,50,\"60\"])\n",
    "print(a)"
   ]
  },
  {
   "cell_type": "code",
   "execution_count": 8,
   "id": "66582426-34d6-47ba-81c5-07f35d0231a8",
   "metadata": {},
   "outputs": [
    {
     "name": "stdout",
     "output_type": "stream",
     "text": [
      "[20, 30, 40, 50, 60, 70]\n"
     ]
    }
   ],
   "source": [
    "l1=[20,30,40]\n",
    "l2=[50,60,70]\n",
    "print(l1+l2)"
   ]
  },
  {
   "cell_type": "code",
   "execution_count": 12,
   "id": "3134201c-3df9-4e53-94c7-9c608c08adad",
   "metadata": {},
   "outputs": [
    {
     "name": "stdout",
     "output_type": "stream",
     "text": [
      "[20, 30, 20, 30, 20, 30, 20, 30, 20, 30]\n"
     ]
    }
   ],
   "source": [
    "l1=[20,30]\n",
    "l2=5\n",
    "print(l1*l2)"
   ]
  },
  {
   "cell_type": "markdown",
   "id": "bd3460f2-3575-41c6-9855-4bb44f72f2bc",
   "metadata": {},
   "source": [
    "# creating arrays slicing and attributes"
   ]
  },
  {
   "cell_type": "code",
   "execution_count": 27,
   "id": "2440580b-2bdb-4d09-b306-1cae2f4cdfef",
   "metadata": {},
   "outputs": [],
   "source": [
    "import numpy as np"
   ]
  },
  {
   "cell_type": "code",
   "execution_count": 33,
   "id": "4f8d443b-6c9d-4287-bb47-842c9066be20",
   "metadata": {},
   "outputs": [
    {
     "name": "stdout",
     "output_type": "stream",
     "text": [
      "[10 20 30 40]\n",
      "<class 'numpy.ndarray'>\n"
     ]
    }
   ],
   "source": [
    "arr1=np.array([10,20,30,40])\n",
    "print(arr1)\n",
    "print(type(arr1))"
   ]
  },
  {
   "cell_type": "code",
   "execution_count": 51,
   "id": "943ed854-a80d-42b5-8484-5c3bac3ca94d",
   "metadata": {},
   "outputs": [
    {
     "name": "stdout",
     "output_type": "stream",
     "text": [
      "[[2 4 6 8 0]\n",
      " [1 3 5 7 9]]\n"
     ]
    }
   ],
   "source": [
    "arr2=np.array([[2,4,6,8,0],[1,3,5,7,9]])\n",
    "print(arr2)\n"
   ]
  },
  {
   "cell_type": "code",
   "execution_count": 57,
   "id": "bd04f15c-15c1-4620-a6bf-b3a77da98779",
   "metadata": {},
   "outputs": [
    {
     "name": "stdout",
     "output_type": "stream",
     "text": [
      "[2 3 4 5 6]\n",
      "[2 3 4 5 6 7]\n"
     ]
    }
   ],
   "source": [
    "# slicing\n",
    "arr3=np.array([2,3,4,5,6,7])\n",
    "print(arr3[0:5])\n",
    "print(arr3[0:]) #for end value\n"
   ]
  },
  {
   "cell_type": "code",
   "execution_count": 75,
   "id": "e9fe26be-ad21-4af5-856d-7c47bf8caea9",
   "metadata": {},
   "outputs": [
    {
     "name": "stdout",
     "output_type": "stream",
     "text": [
      "[[10]\n",
      " [20]]\n",
      "[10 30]\n",
      "[20 30 60]\n"
     ]
    }
   ],
   "source": [
    "arr=np.array([[10,30,50],[20,30,60]])\n",
    "print(arr[0:2,0:1])\n",
    "print(arr[0,0:2])\n",
    "print(arr[1,0:])"
   ]
  },
  {
   "cell_type": "markdown",
   "id": "2f82a827-767b-4347-a212-6afc8fd10413",
   "metadata": {},
   "source": [
    "# attributes"
   ]
  },
  {
   "cell_type": "code",
   "execution_count": 85,
   "id": "e90927d0-6e7f-4f02-b3ed-5652c49c5a3b",
   "metadata": {},
   "outputs": [
    {
     "name": "stdout",
     "output_type": "stream",
     "text": [
      "(3, 3)\n",
      "9\n",
      "2\n",
      "int32\n"
     ]
    }
   ],
   "source": [
    "\n",
    "arr=np.array([[10,30,50],[20,30,60],[2,3,5]])\n",
    "print(np.shape(arr))\n",
    "print(np.size(arr))\n",
    "print(np.ndim(arr))\n",
    "print(arr.dtype)"
   ]
  },
  {
   "cell_type": "markdown",
   "id": "fb1bd878-6a67-408e-bc58-a52615998fcb",
   "metadata": {},
   "source": [
    "# functions"
   ]
  },
  {
   "cell_type": "code",
   "execution_count": 109,
   "id": "d1184b7f-f132-4589-a509-0ba899ee7012",
   "metadata": {},
   "outputs": [
    {
     "name": "stdout",
     "output_type": "stream",
     "text": [
      "(6,)\n",
      "6\n",
      "1\n",
      "6\n",
      "int32\n",
      "[1 2 3 4 5 6]\n"
     ]
    }
   ],
   "source": [
    "arr=np.array([1,2,3,4,5,6])\n",
    "print(arr.shape)  # rows,col\n",
    "print(len(arr))   # num of nested values\n",
    "print(arr.ndim)   \n",
    "print(arr.size)\n",
    "print(arr.dtype)     # data type of arr\n",
    "print(arr.astype(int))"
   ]
  },
  {
   "cell_type": "markdown",
   "id": "aaea0a61-de85-4ec2-91f2-aeef5257a6fe",
   "metadata": {},
   "source": [
    "# mathematical operations and func on arrays"
   ]
  },
  {
   "cell_type": "code",
   "execution_count": 121,
   "id": "5a976856-a6c2-4cc1-b70a-3b9d2d58fe9a",
   "metadata": {},
   "outputs": [
    {
     "name": "stdout",
     "output_type": "stream",
     "text": [
      "[[ 40  60]\n",
      " [100  60]]\n",
      "[[ 40  60]\n",
      " [100  60]]\n"
     ]
    }
   ],
   "source": [
    "arr1=np.array([[30,40],[60,10]])\n",
    "arr2=np.array([[10,20],[40,50]])\n",
    "print(arr1+arr2)\n",
    "print(np.add(arr1,arr2))"
   ]
  },
  {
   "cell_type": "code",
   "execution_count": 127,
   "id": "f153625e-d739-4a24-81e2-32522371da0e",
   "metadata": {},
   "outputs": [
    {
     "name": "stdout",
     "output_type": "stream",
     "text": [
      "[[ 20  20]\n",
      " [ 20 -40]]\n",
      "[[ 20  20]\n",
      " [ 20 -40]]\n"
     ]
    }
   ],
   "source": [
    "arr1=np.array([[30,40],[60,10]])\n",
    "arr2=np.array([[10,20],[40,50]])\n",
    "print(arr1-arr2)\n",
    "print(np.subtract(arr1,arr2))"
   ]
  },
  {
   "cell_type": "code",
   "execution_count": 131,
   "id": "ecd67e74-8823-4de4-b3ee-dae347e21c32",
   "metadata": {},
   "outputs": [
    {
     "name": "stdout",
     "output_type": "stream",
     "text": [
      "[[ 300  800]\n",
      " [2400  500]]\n",
      "[[ 300  800]\n",
      " [2400  500]]\n"
     ]
    }
   ],
   "source": [
    "arr1=np.array([[30,40],[60,10]])\n",
    "arr2=np.array([[10,20],[40,50]])\n",
    "print(arr1*arr2)\n",
    "print(np.multiply(arr1,arr2))"
   ]
  },
  {
   "cell_type": "code",
   "execution_count": 133,
   "id": "963da424-b575-4211-83fd-273d8854ef67",
   "metadata": {},
   "outputs": [
    {
     "name": "stdout",
     "output_type": "stream",
     "text": [
      "[[3.  2. ]\n",
      " [1.5 0.2]]\n",
      "[[3.  2. ]\n",
      " [1.5 0.2]]\n"
     ]
    }
   ],
   "source": [
    "arr1=np.array([[30,40],[60,10]])\n",
    "arr2=np.array([[10,20],[40,50]])\n",
    "print(arr1/arr2)\n",
    "print(np.divide(arr1,arr2))"
   ]
  },
  {
   "cell_type": "code",
   "execution_count": 137,
   "id": "7041d0ba-8c93-4816-883b-d3aab9ff036d",
   "metadata": {},
   "outputs": [
    {
     "name": "stdout",
     "output_type": "stream",
     "text": [
      "[  8000  27000  64000 125000]\n"
     ]
    }
   ],
   "source": [
    "#power\n",
    "arr1=np.array([20,30,40,50])\n",
    "arr2=np.array([3])\n",
    "print(np.power(arr1,arr2))\n",
    "\n"
   ]
  },
  {
   "cell_type": "code",
   "execution_count": 141,
   "id": "2760fee1-21e6-4060-bd74-eef54f98ca9f",
   "metadata": {},
   "outputs": [
    {
     "name": "stdout",
     "output_type": "stream",
     "text": [
      "[3.         8.         2.82842712 1.        ]\n"
     ]
    }
   ],
   "source": [
    "arr1=np.array([9,64,8,1])\n",
    "print(np.sqrt(arr1))"
   ]
  },
  {
   "cell_type": "markdown",
   "id": "1a640121-58bc-47a9-bfc1-4cdc6a61f2a7",
   "metadata": {},
   "source": [
    "# combining and splitting arrays"
   ]
  },
  {
   "cell_type": "code",
   "execution_count": 160,
   "id": "8be42106-409d-49b6-8209-626d616bc404",
   "metadata": {},
   "outputs": [
    {
     "name": "stdout",
     "output_type": "stream",
     "text": [
      "[30, 40, 50, 5, 5, 3]\n"
     ]
    }
   ],
   "source": [
    "a=[30,40,50]\n",
    "b=[5,5,3]\n",
    "print(a+b)"
   ]
  },
  {
   "cell_type": "code",
   "execution_count": 184,
   "id": "9b3956c9-efcd-4385-82dc-43d9e76b4c22",
   "metadata": {},
   "outputs": [
    {
     "name": "stdout",
     "output_type": "stream",
     "text": [
      "[[30 40]\n",
      " [50 10]\n",
      " [ 5  5]\n",
      " [ 3  2]]\n"
     ]
    }
   ],
   "source": [
    "#concatenate\n",
    "import numpy as np\n",
    "arr1=np.array([[30,40],[50,10]])\n",
    "arr2=np.array([[5,5],[3,2]])\n",
    "print(np.concatenate([arr1,arr2]))\n",
    "#print(arr1+arr2)"
   ]
  },
  {
   "cell_type": "code",
   "execution_count": 192,
   "id": "f1367c23-b812-4496-b2b6-d692cb2ee568",
   "metadata": {},
   "outputs": [
    {
     "name": "stdout",
     "output_type": "stream",
     "text": [
      "[[30 40  5  5]\n",
      " [50 10  3  2]]\n"
     ]
    }
   ],
   "source": [
    "print(np.concatenate([arr1,arr2],axis=1))"
   ]
  },
  {
   "cell_type": "code",
   "execution_count": 194,
   "id": "b7f5030c-48ee-405f-9916-ce3a3a47c9cd",
   "metadata": {},
   "outputs": [
    {
     "name": "stdout",
     "output_type": "stream",
     "text": [
      "[[30 40  5  5]\n",
      " [50 10  3  2]]\n"
     ]
    }
   ],
   "source": [
    "print(np.hstack([arr1,arr2]))  #horizontal concatenation"
   ]
  },
  {
   "cell_type": "code",
   "execution_count": 200,
   "id": "37a3f72b-37f0-4687-a178-1773262c3c05",
   "metadata": {},
   "outputs": [
    {
     "name": "stdout",
     "output_type": "stream",
     "text": [
      "[[30 40]\n",
      " [50 10]\n",
      " [ 5  5]\n",
      " [ 3  2]]\n"
     ]
    }
   ],
   "source": [
    "print(np.vstack([arr1,arr2]))  #vertical stack"
   ]
  },
  {
   "cell_type": "code",
   "execution_count": 212,
   "id": "60557455-5293-4539-ae20-d20f5c41a29c",
   "metadata": {},
   "outputs": [
    {
     "name": "stdout",
     "output_type": "stream",
     "text": [
      "[array([20, 30]), array([40, 10]), array([50])]\n"
     ]
    }
   ],
   "source": [
    "a=np.array([20,30,40,10,50])\n",
    "print(np.array_split(a,3))"
   ]
  },
  {
   "cell_type": "code",
   "execution_count": 214,
   "id": "40f3a96c-5fc1-4c17-b09f-04b73f38d470",
   "metadata": {},
   "outputs": [
    {
     "name": "stdout",
     "output_type": "stream",
     "text": [
      "[40 10]\n"
     ]
    }
   ],
   "source": [
    "a=np.array([20,30,40,10,50])\n",
    "b=np.array_split(a,3)\n",
    "print(b[1])"
   ]
  },
  {
   "cell_type": "code",
   "execution_count": 224,
   "id": "702f67c4-6be7-4c5f-b916-f04ab703aec3",
   "metadata": {},
   "outputs": [
    {
     "name": "stdout",
     "output_type": "stream",
     "text": [
      "[array([[20, 30, 40]]), array([[10, 50, 60]]), array([], shape=(0, 3), dtype=int32)]\n"
     ]
    }
   ],
   "source": [
    "a=np.array([[20,30,40],[10,50,60]])\n",
    "b=np.array_split(a,3)\n",
    "print(b)"
   ]
  },
  {
   "cell_type": "markdown",
   "id": "625ff3bf-5c76-4a06-a6ec-dd3d3f8d589e",
   "metadata": {},
   "source": [
    "# adding and removing elements in the array"
   ]
  },
  {
   "cell_type": "code",
   "execution_count": 229,
   "id": "0a21b7e4-db4d-4ce1-9c9f-341e32570da0",
   "metadata": {},
   "outputs": [
    {
     "name": "stdout",
     "output_type": "stream",
     "text": [
      "[20 40 60 80 90]\n"
     ]
    }
   ],
   "source": [
    "import numpy as np\n",
    "\n",
    "a=np.array([20,40,60,80])\n",
    "print(np.append(a,90))"
   ]
  },
  {
   "cell_type": "code",
   "execution_count": 233,
   "id": "05e086c9-9dd6-4ef5-8359-08a70d32485b",
   "metadata": {},
   "outputs": [
    {
     "name": "stdout",
     "output_type": "stream",
     "text": [
      "[20 40 60 80 90]\n"
     ]
    }
   ],
   "source": [
    "a=np.array([[20,40],[60,80]])\n",
    "print(np.append(a,90))"
   ]
  },
  {
   "cell_type": "code",
   "execution_count": 241,
   "id": "6595e8c8-d7a6-4319-95ad-17e190dae884",
   "metadata": {},
   "outputs": [
    {
     "name": "stdout",
     "output_type": "stream",
     "text": [
      "[ 20  40  60  80  90 100 110]\n"
     ]
    }
   ],
   "source": [
    "a=np.array([20,40,60,80])\n",
    "print(np.append(a,[90,100,110]))"
   ]
  },
  {
   "cell_type": "code",
   "execution_count": 243,
   "id": "07037f8f-cb2c-4c1e-b5b6-f216f7ad0440",
   "metadata": {},
   "outputs": [
    {
     "name": "stdout",
     "output_type": "stream",
     "text": [
      "[20 30 40 60 80]\n"
     ]
    }
   ],
   "source": [
    "print(np.insert(a,1,30))"
   ]
  },
  {
   "cell_type": "code",
   "execution_count": 247,
   "id": "c7887466-3dbb-4dcb-94e0-66136f2ffb2f",
   "metadata": {},
   "outputs": [
    {
     "name": "stdout",
     "output_type": "stream",
     "text": [
      "[[20 90 30 40]\n",
      " [30 95 40 60]]\n"
     ]
    }
   ],
   "source": [
    "a=np.array([[20,30,40],[30,40,60]])\n",
    "print(np.insert(a,1,[90,95],axis=1))"
   ]
  },
  {
   "cell_type": "code",
   "execution_count": 257,
   "id": "78deeb4e-db59-445c-b55a-939fb4dbc6bb",
   "metadata": {},
   "outputs": [
    {
     "name": "stdout",
     "output_type": "stream",
     "text": [
      "[[20 30 40]\n",
      " [30 40 60]]\n",
      "[20 40 30 40 60]\n"
     ]
    }
   ],
   "source": [
    "print(a)\n",
    "print(np.delete(a,1))"
   ]
  },
  {
   "cell_type": "markdown",
   "id": "60f1326f-3d9e-4fcd-8d7e-9468caadfbcc",
   "metadata": {},
   "source": [
    "# sort ,search,filter"
   ]
  },
  {
   "cell_type": "code",
   "execution_count": 261,
   "id": "333c269d-c0e8-45f8-9afa-1161ffc93420",
   "metadata": {},
   "outputs": [],
   "source": [
    "import numpy as np"
   ]
  },
  {
   "cell_type": "code",
   "execution_count": 263,
   "id": "c482ae0b-037a-4247-a94e-e66b6ab099f3",
   "metadata": {},
   "outputs": [
    {
     "name": "stdout",
     "output_type": "stream",
     "text": [
      "[  4   5  30 100]\n"
     ]
    }
   ],
   "source": [
    "arr=np.array([30,4,5,100])\n",
    "print(np.sort(arr))"
   ]
  },
  {
   "cell_type": "code",
   "execution_count": 265,
   "id": "67fb5098-f41e-4244-b466-8563c26fdd3c",
   "metadata": {},
   "outputs": [
    {
     "name": "stdout",
     "output_type": "stream",
     "text": [
      "[[  4   5  30 100]\n",
      " [  3  10  40 200]]\n"
     ]
    }
   ],
   "source": [
    "arr=np.array([[30,4,5,100],[40,10,3,200]])\n",
    "print(np.sort(arr))"
   ]
  },
  {
   "cell_type": "code",
   "execution_count": 271,
   "id": "e7fe12f8-827c-44bd-b6a6-4f1516a0827a",
   "metadata": {},
   "outputs": [
    {
     "name": "stdout",
     "output_type": "stream",
     "text": [
      "(array([1, 4], dtype=int64),)\n"
     ]
    }
   ],
   "source": [
    "arr=np.array([3,4,1,7,8])\n",
    "#s=np.where(arr==1)\n",
    "s=np.where(arr%2==0)\n",
    "print(s)"
   ]
  },
  {
   "cell_type": "code",
   "execution_count": 277,
   "id": "3d7002f5-d884-4f77-aa01-98cb439002f5",
   "metadata": {},
   "outputs": [
    {
     "name": "stdout",
     "output_type": "stream",
     "text": [
      "4\n"
     ]
    }
   ],
   "source": [
    "#search sorted \n",
    "ar=np.array([1,2,3,4,5,6])\n",
    "ss=np.searchsorted(ar,5)\n",
    "print(ss)\n"
   ]
  },
  {
   "cell_type": "code",
   "execution_count": 279,
   "id": "5b33a865-7863-4945-b69b-0d832e2bd21f",
   "metadata": {},
   "outputs": [
    {
     "name": "stdout",
     "output_type": "stream",
     "text": [
      "[20 40]\n"
     ]
    }
   ],
   "source": [
    "#filter\n",
    "ar=np.array([20,30,40,50])\n",
    "fa=[True,False,True,False]\n",
    "new_ar=ar[fa]\n",
    "print(new_ar)"
   ]
  },
  {
   "cell_type": "code",
   "execution_count": 281,
   "id": "51a44aee-d7d6-438e-8594-d93df8c397fb",
   "metadata": {},
   "outputs": [
    {
     "name": "stdout",
     "output_type": "stream",
     "text": [
      "[40 50]\n"
     ]
    }
   ],
   "source": [
    "ar=np.array([20,30,40,50])\n",
    "fa=ar>35\n",
    "new_ar=ar[fa]\n",
    "print(new_ar)"
   ]
  },
  {
   "cell_type": "markdown",
   "id": "690725c0-6841-467c-bad4-3e33310b2229",
   "metadata": {},
   "source": [
    "# aggregating functions in numpy"
   ]
  },
  {
   "cell_type": "code",
   "execution_count": 284,
   "id": "7fd878f5-fb92-414a-b009-e9479952e759",
   "metadata": {},
   "outputs": [],
   "source": [
    "import numpy as np"
   ]
  },
  {
   "cell_type": "code",
   "execution_count": 306,
   "id": "88199275-ce58-4297-aced-4648932e1a4e",
   "metadata": {},
   "outputs": [
    {
     "name": "stdout",
     "output_type": "stream",
     "text": [
      "190\n",
      "20\n",
      "70\n",
      "4\n",
      "47.5\n",
      "[ 20  60 120 190]\n",
      "[     20     800   48000 3360000]\n"
     ]
    }
   ],
   "source": [
    "a=np.array([20,40,60,70])\n",
    "print(np.sum(a))\n",
    "print(np.min(a))\n",
    "print(np.max(a))\n",
    "print(np.size(a))\n",
    "print(np.mean(a))\n",
    "print(np.cumsum(a))\n",
    "print(np.cumprod(a))"
   ]
  },
  {
   "cell_type": "code",
   "execution_count": 330,
   "id": "33d53aeb-4244-4777-8899-473906b90102",
   "metadata": {},
   "outputs": [
    {
     "name": "stdout",
     "output_type": "stream",
     "text": [
      "[100 150 199 200 250 130] \n",
      " [10 50 30 40 30 10]\n",
      "31270\n"
     ]
    }
   ],
   "source": [
    "a=[100,150,199,200,250,130]\n",
    "b=[10,50,30,40,30,10]\n",
    "\n",
    "price=np.array(a)\n",
    "quantity=np.array(b)\n",
    "\n",
    "print(price,\"\\n\",quantity)\n",
    "\n",
    "c=np.cumprod([price,quantity],axis=0)\n",
    "print(c[1].sum())"
   ]
  },
  {
   "cell_type": "markdown",
   "id": "f821f641-c49c-4d0f-8192-66acf2f8dad3",
   "metadata": {},
   "source": [
    "# statistical functions in numpy"
   ]
  },
  {
   "cell_type": "code",
   "execution_count": 362,
   "id": "7ebbf897-9832-4345-8e66-222a88538074",
   "metadata": {},
   "outputs": [],
   "source": [
    "import numpy as np\n",
    "import statistics as stats"
   ]
  },
  {
   "cell_type": "code",
   "execution_count": 370,
   "id": "11fcbfc3-70f6-4b96-a282-293b8779ac0c",
   "metadata": {},
   "outputs": [
    {
     "name": "stdout",
     "output_type": "stream",
     "text": [
      "201.25\n",
      "190.0\n"
     ]
    }
   ],
   "source": [
    "baked_food=[200,300,150,130,200,280,170,180]\n",
    "a=np.array(baked_food)\n",
    "print(np.mean(baked_food))\n",
    "print(np.median(baked_food))\n"
   ]
  },
  {
   "cell_type": "code",
   "execution_count": 368,
   "id": "f825708e-deab-4e6e-9a31-4cd754ce2a6e",
   "metadata": {},
   "outputs": [
    {
     "name": "stdout",
     "output_type": "stream",
     "text": [
      "ModeResult(mode=200, count=2)\n"
     ]
    }
   ],
   "source": [
    "from scipy import stats\n",
    "\n",
    "baked_food=[200,300,150,130,200,280,170,180]\n",
    "a=np.array(baked_food)\n",
    "print(stats.mode(a))"
   ]
  },
  {
   "cell_type": "code",
   "execution_count": null,
   "id": "ec664658-18d0-4048-91a5-b20afbe56f28",
   "metadata": {},
   "outputs": [],
   "source": []
  },
  {
   "cell_type": "code",
   "execution_count": null,
   "id": "0e1ef5ac-90a3-4ec2-9591-6611024bb095",
   "metadata": {},
   "outputs": [],
   "source": []
  }
 ],
 "metadata": {
  "kernelspec": {
   "display_name": "Python 3 (ipykernel)",
   "language": "python",
   "name": "python3"
  },
  "language_info": {
   "codemirror_mode": {
    "name": "ipython",
    "version": 3
   },
   "file_extension": ".py",
   "mimetype": "text/x-python",
   "name": "python",
   "nbconvert_exporter": "python",
   "pygments_lexer": "ipython3",
   "version": "3.12.4"
  }
 },
 "nbformat": 4,
 "nbformat_minor": 5
}
