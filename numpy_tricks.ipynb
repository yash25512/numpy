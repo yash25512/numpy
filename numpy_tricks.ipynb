{
 "cells": [
  {
   "cell_type": "markdown",
   "id": "6b95173c-da9d-4831-8af5-2516af4e845b",
   "metadata": {},
   "source": [
    "# Numpy tricks"
   ]
  },
  {
   "cell_type": "markdown",
   "id": "95fb1cbe-bb19-48fb-89f8-42186c40d473",
   "metadata": {},
   "source": [
    "# np.sort \n",
    "#Return a sorted copy of an array"
   ]
  },
  {
   "cell_type": "code",
   "execution_count": 4,
   "id": "ee9c1f67-2ba6-4933-b113-57303a37bfeb",
   "metadata": {},
   "outputs": [
    {
     "data": {
      "text/plain": [
       "array([ 8, 38, 97, 56, 44, 68, 21, 54, 80, 92, 95, 42, 26, 31, 68])"
      ]
     },
     "execution_count": 4,
     "metadata": {},
     "output_type": "execute_result"
    }
   ],
   "source": [
    "import numpy as np\n",
    "a=np.random.randint(1,100,15)\n",
    "a"
   ]
  },
  {
   "cell_type": "code",
   "execution_count": 6,
   "id": "40f31e63-251a-4197-8249-27a9bbf13905",
   "metadata": {},
   "outputs": [
    {
     "data": {
      "text/plain": [
       "array([[69, 80, 59,  5],\n",
       "       [84, 19, 43, 60],\n",
       "       [38, 32, 41, 16],\n",
       "       [73, 60, 71, 32],\n",
       "       [34, 73, 22, 83],\n",
       "       [43, 36, 48, 14]])"
      ]
     },
     "execution_count": 6,
     "metadata": {},
     "output_type": "execute_result"
    }
   ],
   "source": [
    "b=np.random.randint(1,100,24).reshape(6,4)\n",
    "b"
   ]
  },
  {
   "cell_type": "code",
   "execution_count": 8,
   "id": "e4cff981-992d-48e3-bec1-629fc10406ac",
   "metadata": {},
   "outputs": [
    {
     "data": {
      "text/plain": [
       "array([ 8, 21, 26, 31, 38, 42, 44, 54, 56, 68, 68, 80, 92, 95, 97])"
      ]
     },
     "execution_count": 8,
     "metadata": {},
     "output_type": "execute_result"
    }
   ],
   "source": [
    "# numpy.sort(a, axis=1/0, kind=None, Order=None) ... for desc [::-1]\n",
    "np.sort(a)\n",
    "#np.sort(a)[::-1]"
   ]
  },
  {
   "cell_type": "code",
   "execution_count": 10,
   "id": "244dd2e4-54df-47a4-a9cc-078cda3bf364",
   "metadata": {},
   "outputs": [
    {
     "data": {
      "text/plain": [
       "array([[34, 19, 22,  5],\n",
       "       [38, 32, 41, 14],\n",
       "       [43, 36, 43, 16],\n",
       "       [69, 60, 48, 32],\n",
       "       [73, 73, 59, 60],\n",
       "       [84, 80, 71, 83]])"
      ]
     },
     "execution_count": 10,
     "metadata": {},
     "output_type": "execute_result"
    }
   ],
   "source": [
    "np.sort(b,axis=0)"
   ]
  },
  {
   "cell_type": "markdown",
   "id": "5dd854f7-521a-4115-8b4e-6210b89cd954",
   "metadata": {},
   "source": [
    "# np. append"
   ]
  },
  {
   "cell_type": "code",
   "execution_count": 13,
   "id": "15155e04-79e1-45ca-9fc2-796d53e6a18c",
   "metadata": {},
   "outputs": [],
   "source": [
    "# The numpy.append() appends values along the mentioned axis at the end of the array"
   ]
  },
  {
   "cell_type": "code",
   "execution_count": 15,
   "id": "e4dd25bd-2716-4b00-b14a-3fa5396650bf",
   "metadata": {},
   "outputs": [
    {
     "data": {
      "text/plain": [
       "array([  8,  38,  97,  56,  44,  68,  21,  54,  80,  92,  95,  42,  26,\n",
       "        31,  68, 200])"
      ]
     },
     "execution_count": 15,
     "metadata": {},
     "output_type": "execute_result"
    }
   ],
   "source": [
    "# code\n",
    "np.append(a,200)"
   ]
  },
  {
   "cell_type": "code",
   "execution_count": 17,
   "id": "94ad99a7-56ca-4ba0-ae31-ef1b1a1ce9cd",
   "metadata": {},
   "outputs": [
    {
     "data": {
      "text/plain": [
       "array([[69., 80., 59.,  5.,  1.],\n",
       "       [84., 19., 43., 60.,  1.],\n",
       "       [38., 32., 41., 16.,  1.],\n",
       "       [73., 60., 71., 32.,  1.],\n",
       "       [34., 73., 22., 83.,  1.],\n",
       "       [43., 36., 48., 14.,  1.]])"
      ]
     },
     "execution_count": 17,
     "metadata": {},
     "output_type": "execute_result"
    }
   ],
   "source": [
    "np.append(b,np.ones((b.shape[0],1)),axis=1)"
   ]
  },
  {
   "cell_type": "markdown",
   "id": "526d6d30-c3c0-470c-a883-584fbe3a8087",
   "metadata": {},
   "source": [
    "# np.concatenate\n"
   ]
  },
  {
   "cell_type": "code",
   "execution_count": 20,
   "id": "9876bad0-f688-4600-986d-37e6bc364cd0",
   "metadata": {},
   "outputs": [],
   "source": [
    "#numpy.concatenate() function concatenate a squence of arrays along on existing axis"
   ]
  },
  {
   "cell_type": "code",
   "execution_count": 22,
   "id": "653a8e57-cf10-4695-ad3e-aa67cd54fc56",
   "metadata": {},
   "outputs": [
    {
     "name": "stdout",
     "output_type": "stream",
     "text": [
      "[[0 1 2]\n",
      " [3 4 5]]\n",
      "[[ 6  7  8]\n",
      " [ 9 10 11]]\n"
     ]
    }
   ],
   "source": [
    "# code \n",
    "c=np.arange(6).reshape(2,3)\n",
    "d=np.arange(6,12).reshape(2,3)\n",
    "\n",
    "print(c)\n",
    "print(d)"
   ]
  },
  {
   "cell_type": "code",
   "execution_count": 24,
   "id": "3845a766-9736-46e8-8350-f58de252f2c8",
   "metadata": {},
   "outputs": [
    {
     "data": {
      "text/plain": [
       "array([[ 0,  1,  2],\n",
       "       [ 3,  4,  5],\n",
       "       [ 6,  7,  8],\n",
       "       [ 9, 10, 11]])"
      ]
     },
     "execution_count": 24,
     "metadata": {},
     "output_type": "execute_result"
    }
   ],
   "source": [
    "np.concatenate((c,d),axis=0)"
   ]
  },
  {
   "cell_type": "markdown",
   "id": "015a99c0-96e2-4881-9d7c-5ebaa25562dd",
   "metadata": {},
   "source": [
    "# np.unique"
   ]
  },
  {
   "cell_type": "code",
   "execution_count": 27,
   "id": "3bf732e8-3ea0-47ae-b238-3a38042dc270",
   "metadata": {},
   "outputs": [],
   "source": [
    "# with the help of np.unique() method, we can get the unique values from an array given as parameter in np.unique() method"
   ]
  },
  {
   "cell_type": "code",
   "execution_count": 29,
   "id": "95a76c71-34e4-4724-a9c4-e14c8602b449",
   "metadata": {},
   "outputs": [
    {
     "data": {
      "text/plain": [
       "array([ 1,  2,  3,  4,  5, 54])"
      ]
     },
     "execution_count": 29,
     "metadata": {},
     "output_type": "execute_result"
    }
   ],
   "source": [
    "# code\n",
    "e=np.array([1,2,3,3,4,5,4,54,5,4,5,4,3,3,3,2,2])\n",
    "np.unique(e)"
   ]
  },
  {
   "cell_type": "markdown",
   "id": "6679fb7e-58de-4be6-aec3-cfec75b29e9f",
   "metadata": {},
   "source": [
    "# np.expand_dims"
   ]
  },
  {
   "cell_type": "code",
   "execution_count": 32,
   "id": "176c8730-e300-42ab-a241-cc8e5235143e",
   "metadata": {},
   "outputs": [],
   "source": [
    "# with the help of numpy.expand_dims() method, we can get the expanded dimensions of an array"
   ]
  },
  {
   "cell_type": "code",
   "execution_count": 34,
   "id": "49b0d236-e5f6-4561-a783-7951a6e13e3d",
   "metadata": {},
   "outputs": [
    {
     "data": {
      "text/plain": [
       "(15,)"
      ]
     },
     "execution_count": 34,
     "metadata": {},
     "output_type": "execute_result"
    }
   ],
   "source": [
    "# code\n",
    "a.shape"
   ]
  },
  {
   "cell_type": "code",
   "execution_count": 36,
   "id": "a486a062-bfd5-48da-8674-00142de8123d",
   "metadata": {},
   "outputs": [
    {
     "data": {
      "text/plain": [
       "(15, 1)"
      ]
     },
     "execution_count": 36,
     "metadata": {},
     "output_type": "execute_result"
    }
   ],
   "source": [
    "np.expand_dims(a,axis=1).shape"
   ]
  },
  {
   "cell_type": "code",
   "execution_count": 38,
   "id": "f6c16b7e-eaec-493c-b128-44d35e214ab4",
   "metadata": {},
   "outputs": [
    {
     "data": {
      "text/plain": [
       "(1, 15)"
      ]
     },
     "execution_count": 38,
     "metadata": {},
     "output_type": "execute_result"
    }
   ],
   "source": [
    "np.expand_dims(a,axis=0).shape"
   ]
  },
  {
   "cell_type": "markdown",
   "id": "d1c3e535-5228-4db7-bcb4-b4c8a764c609",
   "metadata": {},
   "source": [
    "# np.where"
   ]
  },
  {
   "cell_type": "code",
   "execution_count": 41,
   "id": "23b1b157-9249-44f4-b876-7b115a4a45e6",
   "metadata": {},
   "outputs": [],
   "source": [
    "# The numpy.where() function returns the indices of elements in an input array where the given condition is satisfied"
   ]
  },
  {
   "cell_type": "code",
   "execution_count": 43,
   "id": "db6a7a79-f67b-492b-ad14-00a9f97d6d30",
   "metadata": {},
   "outputs": [
    {
     "data": {
      "text/plain": [
       "array([ 8, 38, 97, 56, 44, 68, 21, 54, 80, 92, 95, 42, 26, 31, 68])"
      ]
     },
     "execution_count": 43,
     "metadata": {},
     "output_type": "execute_result"
    }
   ],
   "source": [
    "a"
   ]
  },
  {
   "cell_type": "code",
   "execution_count": 54,
   "id": "6ba89948-c93e-4b95-92bd-7a60efe47f28",
   "metadata": {},
   "outputs": [
    {
     "data": {
      "text/plain": [
       "(array([ 2,  3,  5,  7,  8,  9, 10, 14], dtype=int64),)"
      ]
     },
     "execution_count": 54,
     "metadata": {},
     "output_type": "execute_result"
    }
   ],
   "source": [
    "# find all the indices with value greater than 50\n",
    "np.where(a>50)"
   ]
  },
  {
   "cell_type": "code",
   "execution_count": 56,
   "id": "e3b220e9-4fca-47a1-9c83-18cc6063a454",
   "metadata": {},
   "outputs": [
    {
     "data": {
      "text/plain": [
       "array([ 8, 38,  0,  0, 44,  0, 21,  0,  0,  0,  0, 42, 26, 31,  0])"
      ]
     },
     "execution_count": 56,
     "metadata": {},
     "output_type": "execute_result"
    }
   ],
   "source": [
    "# replace all values  >50 with 0 np.where(condition,true,false)\n",
    "np.where(a>50,0,a)"
   ]
  },
  {
   "cell_type": "code",
   "execution_count": 58,
   "id": "432e7414-505e-43cc-91dc-cc3d4af8750c",
   "metadata": {},
   "outputs": [
    {
     "data": {
      "text/plain": [
       "array([ 0,  0, 97,  0,  0,  0, 21,  0,  0,  0, 95,  0,  0, 31,  0])"
      ]
     },
     "execution_count": 58,
     "metadata": {},
     "output_type": "execute_result"
    }
   ],
   "source": [
    "# even num replace with 0\n",
    "np.where(a%2==0,0,a)"
   ]
  },
  {
   "cell_type": "markdown",
   "id": "9c49324b-94af-43b7-bb4d-bc31854b7f4b",
   "metadata": {},
   "source": [
    "# np.argmax"
   ]
  },
  {
   "cell_type": "code",
   "execution_count": null,
   "id": "b78fb971-ea63-4958-9b6c-6325cff2614b",
   "metadata": {},
   "outputs": [],
   "source": [
    "# The numpy.argmax() function return indices of the max element of the array in a particular axis"
   ]
  },
  {
   "cell_type": "code",
   "execution_count": 61,
   "id": "34b5e936-606c-4281-b16d-49019b456b63",
   "metadata": {},
   "outputs": [
    {
     "data": {
      "text/plain": [
       "array([ 8, 38, 97, 56, 44, 68, 21, 54, 80, 92, 95, 42, 26, 31, 68])"
      ]
     },
     "execution_count": 61,
     "metadata": {},
     "output_type": "execute_result"
    }
   ],
   "source": [
    "# code\n",
    "a"
   ]
  },
  {
   "cell_type": "code",
   "execution_count": 63,
   "id": "6b9ed90b-8d25-44cf-a38d-20daca5ffad0",
   "metadata": {},
   "outputs": [
    {
     "data": {
      "text/plain": [
       "array([[69, 80, 59,  5],\n",
       "       [84, 19, 43, 60],\n",
       "       [38, 32, 41, 16],\n",
       "       [73, 60, 71, 32],\n",
       "       [34, 73, 22, 83],\n",
       "       [43, 36, 48, 14]])"
      ]
     },
     "execution_count": 63,
     "metadata": {},
     "output_type": "execute_result"
    }
   ],
   "source": [
    "b"
   ]
  },
  {
   "cell_type": "code",
   "execution_count": 65,
   "id": "7b6c72b0-bcf8-43d2-96e2-0ab23b02bd8d",
   "metadata": {},
   "outputs": [
    {
     "data": {
      "text/plain": [
       "2"
      ]
     },
     "execution_count": 65,
     "metadata": {},
     "output_type": "execute_result"
    }
   ],
   "source": [
    "np.argmax(a)"
   ]
  },
  {
   "cell_type": "code",
   "execution_count": 71,
   "id": "be403e40-27a7-468c-9ace-1cc4836a0851",
   "metadata": {},
   "outputs": [
    {
     "data": {
      "text/plain": [
       "array([1, 0, 2, 0, 3, 2], dtype=int64)"
      ]
     },
     "execution_count": 71,
     "metadata": {},
     "output_type": "execute_result"
    }
   ],
   "source": [
    "np.argmax(b,axis=1) # row"
   ]
  },
  {
   "cell_type": "code",
   "execution_count": 73,
   "id": "8e16e665-9775-4979-86dc-e1467b7b7fc2",
   "metadata": {},
   "outputs": [
    {
     "data": {
      "text/plain": [
       "0"
      ]
     },
     "execution_count": 73,
     "metadata": {},
     "output_type": "execute_result"
    }
   ],
   "source": [
    "# np.argmin()\n",
    "np.argmin(a)"
   ]
  },
  {
   "cell_type": "markdown",
   "id": "2706e9b6-7eb3-4d65-ae1f-a93a55f81e2b",
   "metadata": {},
   "source": [
    "# np.cumsum"
   ]
  },
  {
   "cell_type": "code",
   "execution_count": null,
   "id": "79aad4c2-a1b4-4116-96e8-03a7c95c4b98",
   "metadata": {},
   "outputs": [],
   "source": [
    "# numpy.cumsum() func is used when we want to compute the cumulative sum of arr elemnts of the given axis"
   ]
  },
  {
   "cell_type": "code",
   "execution_count": 78,
   "id": "c507dbeb-200a-4417-830e-2a000c48e5ff",
   "metadata": {},
   "outputs": [
    {
     "data": {
      "text/plain": [
       "array([ 8, 38, 97, 56, 44, 68, 21, 54, 80, 92, 95, 42, 26, 31, 68])"
      ]
     },
     "execution_count": 78,
     "metadata": {},
     "output_type": "execute_result"
    }
   ],
   "source": [
    "a"
   ]
  },
  {
   "cell_type": "code",
   "execution_count": 82,
   "id": "397fd25a-cf1d-4b09-867e-450ef119fe67",
   "metadata": {},
   "outputs": [
    {
     "data": {
      "text/plain": [
       "array([  8,  46, 143, 199, 243, 311, 332, 386, 466, 558, 653, 695, 721,\n",
       "       752, 820])"
      ]
     },
     "execution_count": 82,
     "metadata": {},
     "output_type": "execute_result"
    }
   ],
   "source": [
    "np.cumsum(a)"
   ]
  },
  {
   "cell_type": "code",
   "execution_count": 84,
   "id": "e39c53cc-af45-46df-882d-118cbf471f6d",
   "metadata": {},
   "outputs": [
    {
     "data": {
      "text/plain": [
       "array([[69, 80, 59,  5],\n",
       "       [84, 19, 43, 60],\n",
       "       [38, 32, 41, 16],\n",
       "       [73, 60, 71, 32],\n",
       "       [34, 73, 22, 83],\n",
       "       [43, 36, 48, 14]])"
      ]
     },
     "execution_count": 84,
     "metadata": {},
     "output_type": "execute_result"
    }
   ],
   "source": [
    "b"
   ]
  },
  {
   "cell_type": "code",
   "execution_count": 88,
   "id": "0d64953b-02e6-40ff-b1d6-a9980097a52f",
   "metadata": {},
   "outputs": [
    {
     "data": {
      "text/plain": [
       "array([[ 69, 149, 208, 213],\n",
       "       [ 84, 103, 146, 206],\n",
       "       [ 38,  70, 111, 127],\n",
       "       [ 73, 133, 204, 236],\n",
       "       [ 34, 107, 129, 212],\n",
       "       [ 43,  79, 127, 141]])"
      ]
     },
     "execution_count": 88,
     "metadata": {},
     "output_type": "execute_result"
    }
   ],
   "source": [
    "np.cumsum(b,axis=1)"
   ]
  },
  {
   "cell_type": "code",
   "execution_count": 90,
   "id": "baff1933-6e49-424c-98c0-2e0369309155",
   "metadata": {},
   "outputs": [
    {
     "data": {
      "text/plain": [
       "array([          8,         304,       29488,     1651328,    72658432,\n",
       "         645806080,   677025792, -2095312896,  -121307136,  1724645376,\n",
       "         632553472,   797442048,  -741343232, -1506803712,   616562688])"
      ]
     },
     "execution_count": 90,
     "metadata": {},
     "output_type": "execute_result"
    }
   ],
   "source": [
    "# np.cumprod() - it defines the cumulative product\n",
    "np.cumprod(a)"
   ]
  },
  {
   "cell_type": "markdown",
   "id": "b8c75187-8f69-4523-baca-2876521c938d",
   "metadata": {},
   "source": [
    "# np.percentile()"
   ]
  },
  {
   "cell_type": "code",
   "execution_count": null,
   "id": "af37b3ee-75a0-4d0e-8a8c-900e3b271eee",
   "metadata": {},
   "outputs": [],
   "source": [
    "# numpy.percentile() function used to compute the nth percentile of the given data arr along with axis"
   ]
  },
  {
   "cell_type": "code",
   "execution_count": 95,
   "id": "efae2fad-3c84-41d0-aacd-c7989c033f5a",
   "metadata": {},
   "outputs": [
    {
     "data": {
      "text/plain": [
       "97.0"
      ]
     },
     "execution_count": 95,
     "metadata": {},
     "output_type": "execute_result"
    }
   ],
   "source": [
    "np.percentile(a,100)"
   ]
  },
  {
   "cell_type": "code",
   "execution_count": 97,
   "id": "b850dd43-9874-48b4-9ef5-d5274e7b737f",
   "metadata": {},
   "outputs": [
    {
     "data": {
      "text/plain": [
       "8.0"
      ]
     },
     "execution_count": 97,
     "metadata": {},
     "output_type": "execute_result"
    }
   ],
   "source": [
    "np.percentile(a,0)"
   ]
  },
  {
   "cell_type": "markdown",
   "id": "1a8dd61a-e489-4366-8e00-9e790c527a57",
   "metadata": {},
   "source": [
    "# np.histogram()"
   ]
  },
  {
   "cell_type": "code",
   "execution_count": null,
   "id": "9551d35d-bec3-431a-8aee-abb9a816f71e",
   "metadata": {},
   "outputs": [],
   "source": [
    "# it represents the frequency of data distribution in the graphical form"
   ]
  },
  {
   "cell_type": "code",
   "execution_count": 102,
   "id": "8202ee9b-49d0-4fce-a0d0-581aab63fcbd",
   "metadata": {},
   "outputs": [
    {
     "data": {
      "text/plain": [
       "(array([7, 8], dtype=int64), array([  0,  50, 100]))"
      ]
     },
     "execution_count": 102,
     "metadata": {},
     "output_type": "execute_result"
    }
   ],
   "source": [
    "np.histogram(a,bins=[0,50,100])"
   ]
  },
  {
   "cell_type": "markdown",
   "id": "19595b28-e67c-43ba-8414-4d88ba2f26f9",
   "metadata": {},
   "source": [
    "# np.corrcoef()"
   ]
  },
  {
   "cell_type": "code",
   "execution_count": null,
   "id": "a4ce0428-c85c-4dd0-83da-18e275b847b3",
   "metadata": {},
   "outputs": [],
   "source": [
    "# return pearson product-moment correlation coefficent"
   ]
  },
  {
   "cell_type": "code",
   "execution_count": 107,
   "id": "8b707163-62d6-4752-afb5-0326329b16b7",
   "metadata": {},
   "outputs": [
    {
     "data": {
      "text/plain": [
       "array([[ 1.       , -0.6084533],\n",
       "       [-0.6084533,  1.       ]])"
      ]
     },
     "execution_count": 107,
     "metadata": {},
     "output_type": "execute_result"
    }
   ],
   "source": [
    "salary=np.array([200000,400000,50000,60000])\n",
    "experience=np.array([2,3,4,5])\n",
    "\n",
    "np.corrcoef(salary,experience)"
   ]
  },
  {
   "cell_type": "markdown",
   "id": "c17e0da8-8272-42c6-aa30-a77e33cd8bdc",
   "metadata": {},
   "source": [
    "# np.isin"
   ]
  },
  {
   "cell_type": "code",
   "execution_count": null,
   "id": "fb9f54c3-3dfd-49ed-b70c-2bb6f5677409",
   "metadata": {},
   "outputs": [],
   "source": [
    "# with the help of numpy.isin() method,we can see that one array having values are checked in a different\n",
    "# numpy arr having different elements with diff size"
   ]
  },
  {
   "cell_type": "code",
   "execution_count": 114,
   "id": "c33f0213-4c0e-4e0e-a529-ae3c650f5380",
   "metadata": {},
   "outputs": [
    {
     "data": {
      "text/plain": [
       "array([False, False,  True, False, False, False, False, False, False,\n",
       "       False, False, False, False, False, False])"
      ]
     },
     "execution_count": 114,
     "metadata": {},
     "output_type": "execute_result"
    }
   ],
   "source": [
    "np.isin(a,[97,23,84,76])"
   ]
  },
  {
   "cell_type": "code",
   "execution_count": 118,
   "id": "f94647ff-a3a0-489e-83e5-e0ac6dfd62ab",
   "metadata": {},
   "outputs": [
    {
     "data": {
      "text/plain": [
       "array([False, False, False, False, False, False, False, False, False,\n",
       "       False, False, False, False, False, False])"
      ]
     },
     "execution_count": 118,
     "metadata": {},
     "output_type": "execute_result"
    }
   ],
   "source": [
    "items=[10,30,40,50]\n",
    "np.isin(a,items)"
   ]
  },
  {
   "cell_type": "markdown",
   "id": "6aa998d0-1dc8-499e-a98c-4ea37fac406e",
   "metadata": {},
   "source": [
    "# np.flip"
   ]
  },
  {
   "cell_type": "code",
   "execution_count": null,
   "id": "706cb843-2a29-4821-ad21-414bfbe7505f",
   "metadata": {},
   "outputs": [],
   "source": [
    "# reverse the order of array element in the specified axis but have the same shape"
   ]
  },
  {
   "cell_type": "code",
   "execution_count": 121,
   "id": "55de6d1e-4d84-4439-8847-a177378aeee0",
   "metadata": {},
   "outputs": [
    {
     "data": {
      "text/plain": [
       "array([ 8, 38, 97, 56, 44, 68, 21, 54, 80, 92, 95, 42, 26, 31, 68])"
      ]
     },
     "execution_count": 121,
     "metadata": {},
     "output_type": "execute_result"
    }
   ],
   "source": [
    "a"
   ]
  },
  {
   "cell_type": "code",
   "execution_count": 123,
   "id": "89b65f70-2aec-45d2-93f4-8966d972ec26",
   "metadata": {},
   "outputs": [
    {
     "data": {
      "text/plain": [
       "array([68, 31, 26, 42, 95, 92, 80, 54, 21, 68, 44, 56, 97, 38,  8])"
      ]
     },
     "execution_count": 123,
     "metadata": {},
     "output_type": "execute_result"
    }
   ],
   "source": [
    "np.flip(a)"
   ]
  },
  {
   "cell_type": "code",
   "execution_count": 125,
   "id": "cfe4510c-1a40-4cab-8b85-19bdc17f6c13",
   "metadata": {},
   "outputs": [
    {
     "data": {
      "text/plain": [
       "array([[69, 80, 59,  5],\n",
       "       [84, 19, 43, 60],\n",
       "       [38, 32, 41, 16],\n",
       "       [73, 60, 71, 32],\n",
       "       [34, 73, 22, 83],\n",
       "       [43, 36, 48, 14]])"
      ]
     },
     "execution_count": 125,
     "metadata": {},
     "output_type": "execute_result"
    }
   ],
   "source": [
    "b"
   ]
  },
  {
   "cell_type": "code",
   "execution_count": 129,
   "id": "8da574af-c035-4a53-ab2c-7f639d460df9",
   "metadata": {},
   "outputs": [
    {
     "data": {
      "text/plain": [
       "array([[43, 36, 48, 14],\n",
       "       [34, 73, 22, 83],\n",
       "       [73, 60, 71, 32],\n",
       "       [38, 32, 41, 16],\n",
       "       [84, 19, 43, 60],\n",
       "       [69, 80, 59,  5]])"
      ]
     },
     "execution_count": 129,
     "metadata": {},
     "output_type": "execute_result"
    }
   ],
   "source": [
    "np.flip(b,axis=0)"
   ]
  },
  {
   "cell_type": "markdown",
   "id": "f3e69f98-0ae1-4ac3-a905-4f3738991877",
   "metadata": {},
   "source": [
    "# np.put()"
   ]
  },
  {
   "cell_type": "code",
   "execution_count": null,
   "id": "08a3c75d-2cf5-43bc-a57a-9308714fea8b",
   "metadata": {},
   "outputs": [],
   "source": [
    "# the put func  replaces specific elements of an arr with given value of p_arr\n",
    "# indexed works on flattened array"
   ]
  },
  {
   "cell_type": "code",
   "execution_count": 132,
   "id": "7a55f63f-cdde-4b48-b0f7-7281d3b2f242",
   "metadata": {},
   "outputs": [
    {
     "data": {
      "text/plain": [
       "array([ 8, 38, 97, 56, 44, 68, 21, 54, 80, 92, 95, 42, 26, 31, 68])"
      ]
     },
     "execution_count": 132,
     "metadata": {},
     "output_type": "execute_result"
    }
   ],
   "source": [
    "a"
   ]
  },
  {
   "cell_type": "code",
   "execution_count": 134,
   "id": "6f984402-068a-48cd-b5c6-80fc643b7b2e",
   "metadata": {},
   "outputs": [],
   "source": [
    "np.put(a,[0,1],[20,30])"
   ]
  },
  {
   "cell_type": "code",
   "execution_count": 136,
   "id": "8684ad79-f419-4d97-baf6-3fa2b9d62687",
   "metadata": {},
   "outputs": [
    {
     "data": {
      "text/plain": [
       "array([20, 30, 97, 56, 44, 68, 21, 54, 80, 92, 95, 42, 26, 31, 68])"
      ]
     },
     "execution_count": 136,
     "metadata": {},
     "output_type": "execute_result"
    }
   ],
   "source": [
    "a"
   ]
  },
  {
   "cell_type": "markdown",
   "id": "8ad50080-bc23-4264-b7bb-0d1885bebd6f",
   "metadata": {},
   "source": [
    "# np.delete()"
   ]
  },
  {
   "cell_type": "code",
   "execution_count": 139,
   "id": "7ec5ed13-a43b-4b13-8956-fac597606412",
   "metadata": {},
   "outputs": [
    {
     "data": {
      "text/plain": [
       "array([20, 30, 97, 56, 44, 68, 21, 54, 80, 92, 95, 42, 26, 31, 68])"
      ]
     },
     "execution_count": 139,
     "metadata": {},
     "output_type": "execute_result"
    }
   ],
   "source": [
    "a"
   ]
  },
  {
   "cell_type": "code",
   "execution_count": 143,
   "id": "ca422fae-f3f7-423c-8c26-8f351ce6135b",
   "metadata": {},
   "outputs": [
    {
     "data": {
      "text/plain": [
       "array([20, 30, 97, 56, 44, 68, 21, 54, 80, 92, 95, 42, 26, 31])"
      ]
     },
     "execution_count": 143,
     "metadata": {},
     "output_type": "execute_result"
    }
   ],
   "source": [
    "np.delete(a,14)"
   ]
  },
  {
   "cell_type": "code",
   "execution_count": 145,
   "id": "2f59e710-40a1-46d3-ae10-733110e510c7",
   "metadata": {},
   "outputs": [
    {
     "data": {
      "text/plain": [
       "array([56, 44, 68, 21, 54, 80, 92, 95, 42, 26, 31, 68])"
      ]
     },
     "execution_count": 145,
     "metadata": {},
     "output_type": "execute_result"
    }
   ],
   "source": [
    "np.delete(a,[0,1,2])"
   ]
  },
  {
   "cell_type": "markdown",
   "id": "26149b54-048d-4024-a66e-d756f25f326d",
   "metadata": {},
   "source": [
    "# set functions"
   ]
  },
  {
   "cell_type": "code",
   "execution_count": null,
   "id": "e1fa88aa-e8ad-4c5f-879e-8735ff83a8c2",
   "metadata": {},
   "outputs": [],
   "source": [
    " # np.union1d\n",
    " # np.intersect1d\n",
    " # np.setdiff1d\n",
    " # np.setxor1d\n",
    " # np.in1d"
   ]
  },
  {
   "cell_type": "code",
   "execution_count": 152,
   "id": "e2b40b1c-d1ad-4d22-847b-0b9abb573c01",
   "metadata": {},
   "outputs": [
    {
     "data": {
      "text/plain": [
       "array([0, 1, 2, 3, 4, 5, 6, 7, 8, 9])"
      ]
     },
     "execution_count": 152,
     "metadata": {},
     "output_type": "execute_result"
    }
   ],
   "source": [
    "m=np.array([1,2,3,4,5])\n",
    "n=np.array([6,7,8,9,0])\n",
    "\n",
    "np.union1d(m,n)"
   ]
  },
  {
   "cell_type": "code",
   "execution_count": 154,
   "id": "56d19237-cafd-45dd-9ebb-71532479f1e5",
   "metadata": {},
   "outputs": [
    {
     "data": {
      "text/plain": [
       "array([], dtype=int32)"
      ]
     },
     "execution_count": 154,
     "metadata": {},
     "output_type": "execute_result"
    }
   ],
   "source": [
    "np.intersect1d(m,n)"
   ]
  },
  {
   "cell_type": "code",
   "execution_count": 156,
   "id": "cf47f8d2-dedc-4e2f-a8a3-ed3fd1da9a14",
   "metadata": {},
   "outputs": [
    {
     "data": {
      "text/plain": [
       "array([1, 2, 3, 4, 5])"
      ]
     },
     "execution_count": 156,
     "metadata": {},
     "output_type": "execute_result"
    }
   ],
   "source": [
    "np.setdiff1d(m,n)"
   ]
  },
  {
   "cell_type": "code",
   "execution_count": 158,
   "id": "ad5ee9c0-4be9-4901-8b2d-31172398e4ac",
   "metadata": {},
   "outputs": [
    {
     "data": {
      "text/plain": [
       "array([0, 1, 2, 3, 4, 5, 6, 7, 8, 9])"
      ]
     },
     "execution_count": 158,
     "metadata": {},
     "output_type": "execute_result"
    }
   ],
   "source": [
    "np.setxor1d(m,n)"
   ]
  },
  {
   "cell_type": "code",
   "execution_count": 162,
   "id": "54a83543-db03-4d15-b8ea-3e9cb261196f",
   "metadata": {},
   "outputs": [
    {
     "data": {
      "text/plain": [
       "array([ True, False, False, False, False])"
      ]
     },
     "execution_count": 162,
     "metadata": {},
     "output_type": "execute_result"
    }
   ],
   "source": [
    "np.in1d(m,1)"
   ]
  },
  {
   "cell_type": "markdown",
   "id": "d4667204-8e41-4c31-8f43-c96ab4d35607",
   "metadata": {},
   "source": [
    "# np.clip()"
   ]
  },
  {
   "cell_type": "code",
   "execution_count": null,
   "id": "19054d5b-071b-4afd-977e-3f2f69ec7ce6",
   "metadata": {},
   "outputs": [],
   "source": [
    "# func is used to clip(limit) the values in an array"
   ]
  },
  {
   "cell_type": "code",
   "execution_count": 165,
   "id": "c0bafb1e-dfd3-4873-a628-c63f57784c43",
   "metadata": {},
   "outputs": [
    {
     "data": {
      "text/plain": [
       "array([20, 30, 97, 56, 44, 68, 21, 54, 80, 92, 95, 42, 26, 31, 68])"
      ]
     },
     "execution_count": 165,
     "metadata": {},
     "output_type": "execute_result"
    }
   ],
   "source": [
    "a"
   ]
  },
  {
   "cell_type": "code",
   "execution_count": 167,
   "id": "e236b7c6-5309-4816-b5e1-d42882115c8f",
   "metadata": {},
   "outputs": [
    {
     "data": {
      "text/plain": [
       "array([25, 30, 75, 56, 44, 68, 25, 54, 75, 75, 75, 42, 26, 31, 68])"
      ]
     },
     "execution_count": 167,
     "metadata": {},
     "output_type": "execute_result"
    }
   ],
   "source": [
    "np.clip(a,a_min=25, a_max=75)"
   ]
  },
  {
   "cell_type": "code",
   "execution_count": null,
   "id": "01050e3b-bfba-4f40-aa07-8aa666615593",
   "metadata": {},
   "outputs": [],
   "source": []
  }
 ],
 "metadata": {
  "kernelspec": {
   "display_name": "Python 3 (ipykernel)",
   "language": "python",
   "name": "python3"
  },
  "language_info": {
   "codemirror_mode": {
    "name": "ipython",
    "version": 3
   },
   "file_extension": ".py",
   "mimetype": "text/x-python",
   "name": "python",
   "nbconvert_exporter": "python",
   "pygments_lexer": "ipython3",
   "version": "3.12.4"
  }
 },
 "nbformat": 4,
 "nbformat_minor": 5
}
